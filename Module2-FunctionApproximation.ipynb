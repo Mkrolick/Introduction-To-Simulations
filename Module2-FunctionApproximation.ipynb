{
 "cells": [
  {
   "cell_type": "markdown",
   "metadata": {},
   "source": [
    "Given a table of numerical values of a function that is represented as follows:\n",
    "\n",
    "$$\n",
    "\\begin{array}{ c|c|c|c|c }\n",
    "    x & x_0 & x_1 & \\cdots & x_n \\\\ \\hline\n",
    "    y & y_0 & y_1 & \\cdots & y_n\n",
    "\\end{array}\n",
    "$$\n",
    "\n",
    "Is it possible to find a formula that reproduces the given points exactly? This problem comes under the category of function interpolation/approximation.\n",
    "\n",
    "##### 1. Polynomial Interpolation\n",
    "\n",
    "Let us assume a distinct set of points $\\Bbb{D} := \\{(x_i, y_i) \\forall i = 0, 1, 2, \\cdots, n\\}$. We seek to determine a polynomial $p$ that passes through all the points. Therefore, the polynomial $p$ for which $p(x_i) = y_i \\forall i = 0, 1, 2, \\cdots, n$ is said to **interpolate** the table.\n",
    "\n",
    "The polynomial degree depends on the number of points $n$. If $n=0$, a **constant** function (polynomial of degree 0) $p(x)=y_0$ reproduces the one-point table. If $n=1$, a **linear** function (polynomial of degree 1) $p(x)=y_0 + (\\frac{y_1-y_0}{x_1-x_0})(x-x_0)$ which satisfies $p(x_0)=y_0$ and $p(x_1)=y_1$.\n",
    "\n",
    "To generalize, given a set of $n+1$ fixed points, we can define a polynomial of order $n$ which will interpolate the table of points. The interpolating polynomial $p$ can be expressed as:\n",
    "\n",
    "$$\n",
    "\\begin{equation}\n",
    "    p(x) = \\sum_{i=0}^{n} c_i x^i\n",
    "\\end{equation}\n",
    "$$\n",
    "\n",
    "where the coefficients $c_i$'s are unknown. In order to satisy the condition $p(x_i) = y_i \\forall i = 0, 1, 2, \\cdots, n$, we substitute each point into the polynomial to get:\n",
    "\n",
    "$$\n",
    "\\begin{align}\n",
    "    p(x_0) & = c_0 + c_1 x_0 + c_2 x_0^2 + \\cdots + c_n x_0^n = y_0 \\\\\n",
    "    p(x_1) & = c_0 + c_1 x_1 + c_2 x_1^2 + \\cdots + c_n x_1^n = y_1 \\\\\n",
    "    \\vdots \\\\\n",
    "    p(x_n) & = c_0 + c_1 x_n + c_2 x_n^2 + \\cdots + c_n x_n^n = y_n \n",
    "\\end{align}\n",
    "$$\n",
    "\n",
    "Rewriting this in matrix form gives:\n",
    "\n",
    "$$\n",
    "\\begin{bmatrix}\n",
    "    1 & x_0 & x_0^2 & \\cdots & x_0^n \\\\\n",
    "    1 & x_1 & x_1^2 & \\cdots & x_1^n \\\\\n",
    "    \\vdots & \\vdots & \\vdots & \\ddots & \\vdots\\\\\n",
    "    1 & x_n & x_n^2 & \\cdots & x_n^n\n",
    "\\end{bmatrix}\n",
    "\\begin{bmatrix}\n",
    "    c_0 \\\\\n",
    "    c_1 \\\\\n",
    "    \\vdots \\\\\n",
    "    c_n\n",
    "\\end{bmatrix} = \n",
    "\\begin{bmatrix}\n",
    "    y_0 \\\\\n",
    "    y_1 \\\\\n",
    "    \\vdots \\\\\n",
    "    y_n\n",
    "\\end{bmatrix}\n",
    "$$\n",
    "\n",
    "This gives a system of linear equations of the form $\\bf{Ac=y}$ which is needed to be solved. The matrix $\\bf{A}$ is called the **Vandermonde** matrix. We are not going to explicitly discuss the methods for solving systems of linear equation. However, in our coding sessions we will use some library functions that will perform this task for us."
   ]
  },
  {
   "cell_type": "markdown",
   "metadata": {},
   "source": [
    "Import necessary library packages in Python"
   ]
  },
  {
   "cell_type": "code",
   "execution_count": 1,
   "metadata": {},
   "outputs": [],
   "source": [
    "import numpy as np\n",
    "import matplotlib.pyplot as plt"
   ]
  },
  {
   "cell_type": "markdown",
   "metadata": {},
   "source": [
    "Define a function **interpolatePolynomial** that uses a polynomial form as mentioned above to find the value of the function"
   ]
  },
  {
   "cell_type": "code",
   "execution_count": 2,
   "metadata": {},
   "outputs": [],
   "source": [
    "def interpolatePolynomial(x_point, c_array):\n",
    "\n",
    "    p_x = 0.0\n",
    "    for i in range(c_array.size):\n",
    "        p_x = p_x + c_array[i]*(x_point**i)\n",
    "\n",
    "    return p_x"
   ]
  },
  {
   "cell_type": "markdown",
   "metadata": {},
   "source": [
    "Define two arrays x and y which will store the table of points which will be interpolated"
   ]
  },
  {
   "cell_type": "code",
   "execution_count": 3,
   "metadata": {},
   "outputs": [],
   "source": [
    "x = np.array([0.0, 1.0, -1.0, 2.0, -2.0])\n",
    "y = np.array([-5.0, -3.0, -15.0, 39.0, -9.0])"
   ]
  },
  {
   "cell_type": "markdown",
   "metadata": {},
   "source": [
    "Define a function **formVandermondePolynomial** that inputs array **x** and returns the **Vandermonde** matrix"
   ]
  },
  {
   "cell_type": "code",
   "execution_count": 4,
   "metadata": {},
   "outputs": [],
   "source": [
    "def formVandermondePolynomial(x_array):\n",
    "\n",
    "    n = x_array.size\n",
    "    A = np.zeros((n, n))\n",
    "\n",
    "    for i in range(n):\n",
    "        for j in range(n):\n",
    "\n",
    "            A[i][j] = x_array[i]**j\n",
    "\n",
    "    return A"
   ]
  },
  {
   "cell_type": "markdown",
   "metadata": {},
   "source": [
    "Solve the system of equations $\\bf{Ac=y}$ using linear algorithm solver in the Numpy library"
   ]
  },
  {
   "cell_type": "code",
   "execution_count": 5,
   "metadata": {},
   "outputs": [],
   "source": [
    "A = formVandermondePolynomial(x)\n",
    "c = np.linalg.solve(A, y)"
   ]
  },
  {
   "cell_type": "markdown",
   "metadata": {},
   "source": [
    "Now using $c$, we can interpolate the table for any value of $x$. First, let's check if the polynomial satisfies the points in the table."
   ]
  },
  {
   "cell_type": "code",
   "execution_count": 6,
   "metadata": {},
   "outputs": [
    {
     "data": {
      "image/png": "[encoded data removed]",
      "text/plain": [
       "<Figure size 432x288 with 1 Axes>"
      ]
     },
     "metadata": {
      "needs_background": "light"
     },
     "output_type": "display_data"
    }
   ],
   "source": [
    "x_pred = np.linspace(-2.0, 2.0, num=100)\n",
    "y_pred = interpolatePolynomial(x_pred, c)\n",
    "plt.scatter(x, y)\n",
    "plt.plot(x_pred, y_pred)\n",
    "plt.legend([\"points\", \"polynomial\"])\n",
    "plt.title(\"Polynomial Interpolation\")\n",
    "plt.xlabel(\"x\")\n",
    "plt.ylabel(\"p(x)\")\n",
    "plt.show()"
   ]
  },
  {
   "cell_type": "markdown",
   "metadata": {},
   "source": [
    "##### 2. Generalized Interpolation\n",
    "\n",
    "This method can be generalized to be used with any function instead of polynomials. The interpolating function $f$ can be expressed as:\n",
    "\n",
    "$$\n",
    "\\begin{equation}\n",
    "    f(x) = \\sum_{i=0}^{n} c_i \\psi_i(x)\n",
    "\\end{equation}\n",
    "$$\n",
    "\n",
    "where the functions $\\psi_0(x), \\psi_1(x), \\cdots, \\psi_n(x)$ are known as *basis* functions and the coefficients $c_i$ are to be determined. The same concept of using the **Vandermonde** matrix can be used to form the linear system of equations in order to calculate the coefficients. Let us look at an example:"
   ]
  },
  {
   "cell_type": "markdown",
   "metadata": {},
   "source": [
    "Let us use trigonometric functions as *basis* functions. We will use the following form as the interpolating function:\n",
    "\n",
    "$$\n",
    "\\begin{equation}\n",
    "    f(x) = c_0 + \\sum_{i=1}^{n} c_i cos(i \\pi x) + d_i sin(i \\pi x)\n",
    "\\end{equation}\n",
    "$$\n",
    "\n",
    "Define a function **interpolateTrigonometric** that uses a trigonometric functions as mentioned above to find the value of the function"
   ]
  },
  {
   "cell_type": "code",
   "execution_count": 7,
   "metadata": {},
   "outputs": [],
   "source": [
    "def interpolateTrigonometric(x_point, c_0, c_array, d_array):\n",
    "\n",
    "    p_x = c_0\n",
    "    for i in range(c_array.size):\n",
    "        p_x = p_x + c_array[i]*np.cos((i+1) * np.pi * x_point)\n",
    "\n",
    "    for i in range(d_array.size):\n",
    "        p_x = p_x + d_array[i]*np.sin((i+1) * np.pi * x_point)\n",
    "\n",
    "    return p_x"
   ]
  },
  {
   "cell_type": "markdown",
   "metadata": {},
   "source": [
    "In order to satisy the condition $f(x_i) = y_i \\forall i = 0, 1, 2, \\cdots, 2n+1$, we substitute each point into the polynomial to get:\n",
    "\n",
    "$$\n",
    "\\begin{align}\n",
    "    f(x_0) & = c_0 + c_1 cos(\\pi x_0) + d_1 sin(\\pi x_0) + \\cdots + c_n cos(n \\pi x_0) + d_n sin(n \\pi x_0) = y_0 \\\\\n",
    "    f(x_1) & = c_0 + c_1 cos(\\pi x_1) + d_1 sin(\\pi x_1) + + \\cdots + c_n cos(n \\pi x_1) + d_n sin(n \\pi x_1) = y_1 \\\\\n",
    "    \\vdots \\\\\n",
    "    f(x_{2n+1}) & = c_0 + c_1 cos(\\pi x_{2n+1}) + d_1 sin(\\pi x_{2n+1}) + \\cdots + c_n cos(n \\pi x_{2n+1}) + d_n sin(n \\pi x_{2n+1}) = y_{2n+1}\n",
    "\\end{align}\n",
    "$$\n",
    "\n",
    "Rewriting this in matrix form gives:\n",
    "\n",
    "$$\n",
    "\\begin{bmatrix}\n",
    "    1 & cos(\\pi x_0) & sin(\\pi x_0) & \\cdots & cos(n \\pi x_0) & sin(n \\pi x_0) \\\\\n",
    "    1 & cos(\\pi x_1) & sin(\\pi x_1) & \\cdots & cos(n \\pi x_1) & sin(n \\pi x_1) \\\\\n",
    "    \\vdots & \\vdots & \\vdots & \\ddots & \\vdots & \\vdots \\\\\n",
    "    1 & cos(\\pi x_{2n+1}) & sin(\\pi x_{2n+1}) & \\cdots & cos(n \\pi x_{2n+1}) & sin(n \\pi x_{2n+1})\n",
    "\\end{bmatrix}\n",
    "\\begin{bmatrix}\n",
    "    c_0 \\\\\n",
    "    c_1 \\\\\n",
    "    d_1 \\\\\n",
    "    \\vdots \\\\\n",
    "    c_n \\\\\n",
    "    d_n\n",
    "\\end{bmatrix} = \n",
    "\\begin{bmatrix}\n",
    "    y_0 \\\\\n",
    "    y_1 \\\\\n",
    "    \\vdots \\\\\n",
    "    y_{2n+1}\n",
    "\\end{bmatrix}\n",
    "$$\n",
    "\n",
    "Define a function **formVandermondeTrigonometric** that inputs array **x** and returns the **Vandermonde** matrix"
   ]
  },
  {
   "cell_type": "code",
   "execution_count": 8,
   "metadata": {},
   "outputs": [],
   "source": [
    "def formVandermondeTrigonometric(x_array):\n",
    "\n",
    "    n = x_array.size\n",
    "    A = np.zeros((n, n))\n",
    "\n",
    "    for i in range(n):\n",
    "\n",
    "        A[i][0] = 1.0\n",
    "        for j in range(n):\n",
    "\n",
    "            if j == 0:\n",
    "                continue\n",
    "            \n",
    "            if j % 2 == 0:\n",
    "                A[i][j] = np.sin(int(j/2) * np.pi * x_array[i])\n",
    "            else:\n",
    "                A[i][j] = np.cos(int((j+1)/2) * np.pi * x_array[i])\n",
    "\n",
    "    return A"
   ]
  },
  {
   "cell_type": "markdown",
   "metadata": {},
   "source": [
    "Define another set of points"
   ]
  },
  {
   "cell_type": "code",
   "execution_count": 9,
   "metadata": {},
   "outputs": [],
   "source": [
    "x = np.array([-1.0, -0.5, 0.0, 0.5, 1.0])\n",
    "y = np.array([0.0, 0.0, 1.0, 0.0, 0.0])"
   ]
  },
  {
   "cell_type": "markdown",
   "metadata": {},
   "source": [
    "Compare polynomial and trigonometric interpolations"
   ]
  },
  {
   "cell_type": "code",
   "execution_count": 10,
   "metadata": {},
   "outputs": [
    {
     "data": {
      "image/png": "[encoded data removed]",
      "text/plain": [
       "<Figure size 432x288 with 1 Axes>"
      ]
     },
     "metadata": {
      "needs_background": "light"
     },
     "output_type": "display_data"
    }
   ],
   "source": [
    "A_poly = formVandermondePolynomial(x)\n",
    "c_poly = np.linalg.solve(A_poly, y)\n",
    "\n",
    "A_trig = formVandermondeTrigonometric(x)\n",
    "coeff = np.linalg.solve(A_trig, y)\n",
    "c_0 = coeff[0]\n",
    "c_trig = coeff[1::2]\n",
    "d_trig = coeff[2::2]\n",
    "\n",
    "x_pred = np.linspace(-1.0, 1.0, num=100)\n",
    "y_pred_poly = interpolatePolynomial(x_pred, c_poly)\n",
    "y_pred_trig = interpolateTrigonometric(x_pred, c_0, c_trig, d_trig)\n",
    "plt.scatter(x, y)\n",
    "plt.plot(x_pred, y_pred_poly)\n",
    "plt.plot(x_pred, y_pred_trig)\n",
    "plt.legend([\"points\", \"polynomial\", \"trigonometric\"])\n",
    "plt.title(\"Polynomial and Trigonometric Interpolation\")\n",
    "plt.xlabel(\"x\")\n",
    "plt.ylabel(\"f(x)\")\n",
    "plt.show()"
   ]
  },
  {
   "cell_type": "markdown",
   "metadata": {},
   "source": [
    "##### 3. Natural Cubic Spline\n",
    "\n",
    "The function $S(x)$ that we wish to construct consists of $n$ cubic polynomial pieces:\n",
    "\n",
    "$$\n",
    "S(x) = \\left\\{\\begin{array}{lr}\n",
    "        S_0(x), & x_0\\leq x\\leq x_1 \\\\\n",
    "        S_1(x), & x_1\\leq x\\leq x_2 \\\\\n",
    "        \\vdots & \\vdots \\\\\n",
    "        S_{n-1}(x), & x_{n-1}\\leq x\\leq x_n \\\\\n",
    "        \\end{array}\\right\\}\n",
    "$$\n",
    "\n",
    "The interpolation conditions are $S(x_i) = y_i \\forall i = 0, 1, 2, \\cdots n$. The following continuity conditions imposed at the interior points $x_1, x_2, \\cdots x_{n-1}$:\n",
    "\n",
    "$$\n",
    "\\left\\{\\begin{array}{lr}\n",
    "        \\lim_{x\\to x_i^-} S(x) = \\lim_{x\\to x_i^+} S(x) \\\\\n",
    "        \\lim_{x\\to x_i^-} S'(x) = \\lim_{x\\to x_i^+} S'(x) \\\\\n",
    "        \\lim_{x\\to x_i^-} S''(x) = \\lim_{x\\to x_i^+} S''(x)\n",
    "        \\end{array}\\right\\} \\forall i = 1, 2, \\cdots, n-1\n",
    "$$\n",
    "\n",
    "We require two more equations to make this problem solvable. These equations denote the second derivative at the end points $x_0$ and $x_n$:\n",
    "\n",
    "$$\n",
    "\\begin{align}\n",
    "    S''(x_0) & = S''(x_n) = 0\n",
    "\\end{align}\n",
    "$$\n",
    "\n",
    "Instead of using a regular Vandermonde type matrix to calculate the unknown cubic polynomial coefficients, a slightly different algorithm is used. This will not be discussed in class. The derivations would be a reading assignment. However, the code for interpolation would be given to students for understanding and testing."
   ]
  },
  {
   "cell_type": "code",
   "execution_count": 11,
   "metadata": {},
   "outputs": [],
   "source": [
    "def interpolateCubicSpline(x_point, x_array, y_array, z_array):\n",
    "\n",
    "    m = x_array.size\n",
    "    n = m - 1\n",
    "\n",
    "    for i in range(n-1, -1, -1):\n",
    "        if (x_point - x_array[i] >= 0.0):\n",
    "            break\n",
    "\n",
    "    h = x_array[i+1] - x_array[i]\n",
    "    tmp = z_array[i]/2 + ((x_point - x_array[i])*(z_array[i+1] - z_array[i]))/(6*h)\n",
    "    tmp = -(h/6)*(z_array[i+1] + 2*z_array[i]) + (y_array[i+1] - y_array[i])/h + (x_point - x_array[i])*tmp\n",
    "    S = y_array[i] + (x_point - x_array[i])*tmp\n",
    "\n",
    "    return S\n",
    "\n",
    "def findCoefficientsCubicSpline(x_array, y_array):\n",
    "\n",
    "    m = x_array.size\n",
    "    n = int(m - 1)\n",
    "\n",
    "    z_array = np.zeros(m)\n",
    "\n",
    "    h = np.zeros(n)\n",
    "    b = np.zeros(n)\n",
    "    u = np.zeros(n)\n",
    "    v = np.zeros(n)\n",
    "\n",
    "    for i in range(n):\n",
    "        h[i] = x_array[i+1] - x_array[i]\n",
    "        b[i] = (y_array[i+1] - y_array[i])/h[i]\n",
    "\n",
    "    u[1] = 2*(h[0] + h[1])\n",
    "    v[1] = 6*(b[1] - b[0])\n",
    "\n",
    "    for i in range(2, n):\n",
    "        u[i] = 2*(h[i] + h[i-1]) - h[i-1]**2/u[i-1]\n",
    "        v[i] = 6*(b[i] - b[i-1]) - h[i-1]*v[i-1]/u[i-1]\n",
    "\n",
    "    z_array[n] = 0\n",
    "\n",
    "    for i in range(n-1, 0, -1):\n",
    "        z_array[i] = (v[i] - h[i]*z_array[i+1])/u[i]\n",
    "\n",
    "    z_array[0] = 0\n",
    "\n",
    "    return z_array"
   ]
  },
  {
   "cell_type": "code",
   "execution_count": 12,
   "metadata": {},
   "outputs": [
    {
     "data": {
      "image/png": "[encoded data removed]",
      "text/plain": [
       "<Figure size 432x288 with 1 Axes>"
      ]
     },
     "metadata": {
      "needs_background": "light"
     },
     "output_type": "display_data"
    }
   ],
   "source": [
    "x_array = np.array([0.0, 0.6, 1.5, 1.7, 1.9, 2.1, 2.3, 2.6, 2.8, 3.0, 3.6, 4.7, 5.2, 5.7, 5.8, 6.0, 6.4, 6.9, 7.6, 8.0])\n",
    "y_array = np.array([-0.8, -0.34, 0.59, 0.59, 0.23, 0.1, 0.28, 1.03, 1.5, 1.44, 0.74, -0.82, -1.27, -0.92, -0.92, -1.04, -0.79, -0.06, 1.0, 0.0])\n",
    "\n",
    "z_array = findCoefficientsCubicSpline(x_array, y_array)\n",
    "\n",
    "x_pred = np.linspace(0.0, 8.0, num=100)\n",
    "y_pred = np.zeros(x_pred.size)\n",
    "for j in range(x_pred.size):\n",
    "    y_pred[j] = interpolateCubicSpline(x_pred[j], x_array, y_array, z_array)\n",
    "\n",
    "plt.scatter(x_array, y_array)\n",
    "plt.plot(x_pred, y_pred)\n",
    "plt.legend([\"points\", \"Cubic Spline\"])\n",
    "plt.title(\"Natural Cubic Spline Interpolation\")\n",
    "plt.xlabel(\"x\")\n",
    "plt.ylabel(\"S(x)\")\n",
    "plt.show()"
   ]
  }
 ],
 "metadata": {
  "kernelspec": {
   "display_name": "Python 3.9.13 64-bit",
   "language": "python",
   "name": "python3"
  },
  "language_info": {
   "codemirror_mode": {
    "name": "ipython",
    "version": 3
   },
   "file_extension": ".py",
   "mimetype": "text/x-python",
   "name": "python",
   "nbconvert_exporter": "python",
   "pygments_lexer": "ipython3",
   "version": "3.10.2"
  },
  "orig_nbformat": 4,
  "vscode": {
   "interpreter": {
    "hash": "8e284ee3255a07ad8bf76694974743c4c81cb57e7c969474d752d949b11d721e"
   }
  }
 },
 "nbformat": 4,
 "nbformat_minor": 2
}
